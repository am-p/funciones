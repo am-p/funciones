{
 "cells": [
  {
   "cell_type": "markdown",
   "metadata": {},
   "source": [
    "### Guia ejercicios funciones"
   ]
  },
  {
   "cell_type": "markdown",
   "metadata": {},
   "source": [
    "#### Ejercicio \n",
    "Definir una función con la siguiente firma: \n",
    "get_ticker_data(ticker, start, period, interval):\n",
    "\n",
    "Recibe un ticker valido y una fecha en formato yyyy-mm-dd esta indicara la fecha desde cuando traer los datos, un periodo y un intervalo. \n",
    "Utilizar el sdk de yfinance, y para los distintos posibles valores de los parámetros de la función revisar la documentación de la funcion help(yf.download)\n",
    "Debe retornar el dataframe con el historico de dicho ticker.\n",
    "\n",
    "Se debera por una parte definir la función y en otro momento usarla (invocarla) \n",
    "\n",
    "Sugerencia de uso: get_ticker_data(\"GGAL.BA\", \"2000-10-04\", \"1m\",\"1d\")"
   ]
  },
  {
   "cell_type": "code",
   "execution_count": 1,
   "metadata": {},
   "outputs": [
    {
     "name": "stdout",
     "output_type": "stream",
     "text": [
      "[*********************100%***********************]  1 of 1 completed\n"
     ]
    },
    {
     "data": {
      "text/html": [
       "<div>\n",
       "<style scoped>\n",
       "    .dataframe tbody tr th:only-of-type {\n",
       "        vertical-align: middle;\n",
       "    }\n",
       "\n",
       "    .dataframe tbody tr th {\n",
       "        vertical-align: top;\n",
       "    }\n",
       "\n",
       "    .dataframe thead th {\n",
       "        text-align: right;\n",
       "    }\n",
       "</style>\n",
       "<table border=\"1\" class=\"dataframe\">\n",
       "  <thead>\n",
       "    <tr style=\"text-align: right;\">\n",
       "      <th></th>\n",
       "      <th>Open</th>\n",
       "      <th>High</th>\n",
       "      <th>Low</th>\n",
       "      <th>Close</th>\n",
       "      <th>Adj Close</th>\n",
       "      <th>Volume</th>\n",
       "    </tr>\n",
       "    <tr>\n",
       "      <th>Date</th>\n",
       "      <th></th>\n",
       "      <th></th>\n",
       "      <th></th>\n",
       "      <th></th>\n",
       "      <th></th>\n",
       "      <th></th>\n",
       "    </tr>\n",
       "  </thead>\n",
       "  <tbody>\n",
       "    <tr>\n",
       "      <td>2000-10-04</td>\n",
       "      <td>1.490000</td>\n",
       "      <td>1.490000</td>\n",
       "      <td>1.470000</td>\n",
       "      <td>1.490000</td>\n",
       "      <td>1.433950</td>\n",
       "      <td>307891.0</td>\n",
       "    </tr>\n",
       "    <tr>\n",
       "      <td>2000-10-05</td>\n",
       "      <td>1.490000</td>\n",
       "      <td>1.490000</td>\n",
       "      <td>1.490000</td>\n",
       "      <td>1.490000</td>\n",
       "      <td>1.433950</td>\n",
       "      <td>0.0</td>\n",
       "    </tr>\n",
       "    <tr>\n",
       "      <td>2000-10-06</td>\n",
       "      <td>1.430000</td>\n",
       "      <td>1.470000</td>\n",
       "      <td>1.400000</td>\n",
       "      <td>1.430000</td>\n",
       "      <td>1.376207</td>\n",
       "      <td>1671000.0</td>\n",
       "    </tr>\n",
       "    <tr>\n",
       "      <td>2000-10-09</td>\n",
       "      <td>1.390000</td>\n",
       "      <td>1.400000</td>\n",
       "      <td>1.370000</td>\n",
       "      <td>1.390000</td>\n",
       "      <td>1.337711</td>\n",
       "      <td>1296000.0</td>\n",
       "    </tr>\n",
       "    <tr>\n",
       "      <td>2000-10-10</td>\n",
       "      <td>1.400000</td>\n",
       "      <td>1.400000</td>\n",
       "      <td>1.350000</td>\n",
       "      <td>1.400000</td>\n",
       "      <td>1.347335</td>\n",
       "      <td>1430000.0</td>\n",
       "    </tr>\n",
       "    <tr>\n",
       "      <td>...</td>\n",
       "      <td>...</td>\n",
       "      <td>...</td>\n",
       "      <td>...</td>\n",
       "      <td>...</td>\n",
       "      <td>...</td>\n",
       "      <td>...</td>\n",
       "    </tr>\n",
       "    <tr>\n",
       "      <td>2020-08-18</td>\n",
       "      <td>139.000000</td>\n",
       "      <td>141.600006</td>\n",
       "      <td>136.000000</td>\n",
       "      <td>137.300003</td>\n",
       "      <td>137.300003</td>\n",
       "      <td>2401189.0</td>\n",
       "    </tr>\n",
       "    <tr>\n",
       "      <td>2020-08-19</td>\n",
       "      <td>137.000000</td>\n",
       "      <td>140.949997</td>\n",
       "      <td>136.100006</td>\n",
       "      <td>138.199997</td>\n",
       "      <td>138.199997</td>\n",
       "      <td>3030401.0</td>\n",
       "    </tr>\n",
       "    <tr>\n",
       "      <td>2020-08-20</td>\n",
       "      <td>137.949997</td>\n",
       "      <td>138.699997</td>\n",
       "      <td>135.000000</td>\n",
       "      <td>137.800003</td>\n",
       "      <td>137.800003</td>\n",
       "      <td>3389085.0</td>\n",
       "    </tr>\n",
       "    <tr>\n",
       "      <td>2020-08-21</td>\n",
       "      <td>137.399994</td>\n",
       "      <td>141.750000</td>\n",
       "      <td>135.300003</td>\n",
       "      <td>135.899994</td>\n",
       "      <td>135.899994</td>\n",
       "      <td>5824480.0</td>\n",
       "    </tr>\n",
       "    <tr>\n",
       "      <td>2020-08-24</td>\n",
       "      <td>135.500000</td>\n",
       "      <td>135.949997</td>\n",
       "      <td>130.800003</td>\n",
       "      <td>135.199997</td>\n",
       "      <td>135.199997</td>\n",
       "      <td>2831297.0</td>\n",
       "    </tr>\n",
       "  </tbody>\n",
       "</table>\n",
       "<p>4943 rows × 6 columns</p>\n",
       "</div>"
      ],
      "text/plain": [
       "                  Open        High         Low       Close   Adj Close  \\\n",
       "Date                                                                     \n",
       "2000-10-04    1.490000    1.490000    1.470000    1.490000    1.433950   \n",
       "2000-10-05    1.490000    1.490000    1.490000    1.490000    1.433950   \n",
       "2000-10-06    1.430000    1.470000    1.400000    1.430000    1.376207   \n",
       "2000-10-09    1.390000    1.400000    1.370000    1.390000    1.337711   \n",
       "2000-10-10    1.400000    1.400000    1.350000    1.400000    1.347335   \n",
       "...                ...         ...         ...         ...         ...   \n",
       "2020-08-18  139.000000  141.600006  136.000000  137.300003  137.300003   \n",
       "2020-08-19  137.000000  140.949997  136.100006  138.199997  138.199997   \n",
       "2020-08-20  137.949997  138.699997  135.000000  137.800003  137.800003   \n",
       "2020-08-21  137.399994  141.750000  135.300003  135.899994  135.899994   \n",
       "2020-08-24  135.500000  135.949997  130.800003  135.199997  135.199997   \n",
       "\n",
       "               Volume  \n",
       "Date                   \n",
       "2000-10-04   307891.0  \n",
       "2000-10-05        0.0  \n",
       "2000-10-06  1671000.0  \n",
       "2000-10-09  1296000.0  \n",
       "2000-10-10  1430000.0  \n",
       "...               ...  \n",
       "2020-08-18  2401189.0  \n",
       "2020-08-19  3030401.0  \n",
       "2020-08-20  3389085.0  \n",
       "2020-08-21  5824480.0  \n",
       "2020-08-24  2831297.0  \n",
       "\n",
       "[4943 rows x 6 columns]"
      ]
     },
     "execution_count": 1,
     "metadata": {},
     "output_type": "execute_result"
    }
   ],
   "source": [
    "import yfinance\n",
    "\n",
    "def get_ticker_data(ticker,comienzo,periodo,intervalo):\n",
    "    \n",
    "    data=yfinance.download(ticker,start=comienzo,period=periodo,interval=intervalo)\n",
    "    return data.dropna()\n",
    "    \n",
    "get_ticker_data(\"GGAL.BA\", \"2000-10-04\", \"1m\",\"1d\")\n",
    "    "
   ]
  },
  {
   "cell_type": "code",
   "execution_count": null,
   "metadata": {},
   "outputs": [],
   "source": []
  },
  {
   "cell_type": "markdown",
   "metadata": {},
   "source": [
    "#### Ejercicio\n",
    "Se requiere definir una funcion calculadora(operacion,a,b) que sepa dado dos numeros (es precondicion que sean numeros, en el caso de que se pruebe con otra cosa el comportamiento no debe estar definido):\n",
    "    -sumarlos\n",
    "    -restarlos\n",
    "    -multiplicarlos\n",
    "    -generar la potencia del primero elevado al segundo\n",
    "\n",
    "Se requeriere hacerlo de dos formas diferentes, la primera todo dentro de la funcion calculadora por medio de if elif y else, la segunda utilizando sin ellos por medio de pasar funciones por parametros\n",
    "\n",
    "Evaluar ambas y escribir una breve conclusion de que forma prefiere y por que es la segunda."
   ]
  },
  {
   "cell_type": "code",
   "execution_count": 2,
   "metadata": {},
   "outputs": [
    {
     "data": {
      "text/plain": [
       "3"
      ]
     },
     "execution_count": 2,
     "metadata": {},
     "output_type": "execute_result"
    }
   ],
   "source": [
    "def calculadora(operacion, a,b):\n",
    "    return operacion(a,b)\n",
    "    \n",
    "def suma(a,b):\n",
    "    return a + b\n",
    "\n",
    "def resta(a,b):\n",
    "    return a + b\n",
    "\n",
    "def multiplicacion(a,b):\n",
    "    return a * b\n",
    "\n",
    "def potencia(a,b):\n",
    "    return a ** b\n",
    "\n",
    "calculadora(suma, 1,2)\n",
    "    "
   ]
  },
  {
   "cell_type": "code",
   "execution_count": null,
   "metadata": {},
   "outputs": [],
   "source": []
  },
  {
   "cell_type": "markdown",
   "metadata": {},
   "source": [
    "#### Ejercicio \n",
    "se requiere definir una funcion de firma debo_vender(precio_compra, precio_actual, take_profit, stop_loss)\n",
    "\n",
    "La misma debe dado un precio de compra calcular el take profit y el stop que estan expresado como números flotantes en porcentaje, y evaluar si el precio actual es mayor al take profit o menor al stop loss \n",
    "El resultado de la funcion es un booleano que indica si debe o no vender dado esos precios y esos porcentajes operativos."
   ]
  },
  {
   "cell_type": "code",
   "execution_count": 6,
   "metadata": {},
   "outputs": [
    {
     "data": {
      "text/plain": [
       "True"
      ]
     },
     "execution_count": 6,
     "metadata": {},
     "output_type": "execute_result"
    }
   ],
   "source": [
    "def debo_vender(precio_compra, precio_actual, take_profit, stop_loss):\n",
    "    \n",
    "    precio_perdida = precio_compra * (1 -  stop_loss)\n",
    "    precio_ganancia = precio_compra * (1 + take_profit)\n",
    "    return  precio_actual <= precio_perdida or precio_actual >= precio_ganancia\n",
    "\n",
    "debo_vender(100, 102, 0.03, 0.02)\n",
    "debo_vender(100, 102, 0.02, 0.02)\n",
    "\n",
    "#tiene sentido ese producto\n",
    "    \n",
    "    "
   ]
  },
  {
   "cell_type": "code",
   "execution_count": null,
   "metadata": {},
   "outputs": [],
   "source": []
  },
  {
   "cell_type": "code",
   "execution_count": null,
   "metadata": {},
   "outputs": [],
   "source": []
  },
  {
   "cell_type": "code",
   "execution_count": null,
   "metadata": {},
   "outputs": [],
   "source": []
  },
  {
   "cell_type": "code",
   "execution_count": null,
   "metadata": {},
   "outputs": [],
   "source": []
  },
  {
   "cell_type": "code",
   "execution_count": null,
   "metadata": {},
   "outputs": [],
   "source": []
  },
  {
   "cell_type": "markdown",
   "metadata": {},
   "source": [
    "### Resueltos"
   ]
  },
  {
   "cell_type": "code",
   "execution_count": null,
   "metadata": {},
   "outputs": [],
   "source": [
    "\"\"\" \n",
    "def get_ticker_data(ticker, start, period, interval):\n",
    "    import yfinance as yf\n",
    "    return yf.download(ticker, start = start, period = period, interval = interval)\n",
    "\n",
    "\n",
    "get_ticker_data(\"GGAL.BA\", \"2000-10-04\", \"1m\",\"1d\")\n",
    "\"\"\""
   ]
  },
  {
   "cell_type": "code",
   "execution_count": null,
   "metadata": {},
   "outputs": [],
   "source": [
    "\"\"\"\n",
    "def calculadora(operacion, a,b):\n",
    "    resultado = 0\n",
    "    if(operacion==\"suma\"):\n",
    "        resultado = a + b\n",
    "    elif (operacion == \"resta\"):\n",
    "        resultado = a - b\n",
    "    elif(operacion == \"multiplicacion\"):\n",
    "        resultado = a * b\n",
    "    elif (operacion == \"potencia\"):\n",
    "        resultado == a ** b\n",
    "    else:\n",
    "        raise Exception(\"Operador invalido\")\n",
    "    return resultado\n",
    "\n",
    "print(calculadora(\"suma\", 1,2))\n",
    "print(calculadora(\"resta\", 1,2))\n",
    "print(calculadora(\"p\", 1,2))\n",
    "print(calculadora(\"resta\", 1,2))\n",
    "\n",
    "\"\"\""
   ]
  },
  {
   "cell_type": "code",
   "execution_count": 20,
   "metadata": {},
   "outputs": [
    {
     "data": {
      "text/plain": [
       "3"
      ]
     },
     "execution_count": 20,
     "metadata": {},
     "output_type": "execute_result"
    }
   ],
   "source": [
    "\"\"\"\n",
    "def calculadora(operacion, a,b):\n",
    "    return operacion(a,b)\n",
    "    \n",
    "def suma(a,b):\n",
    "    return a + b\n",
    "\n",
    "def resta(a,b):\n",
    "    return a + b\n",
    "\n",
    "def multiplicacion(a,b):\n",
    "    return a * b\n",
    "\n",
    "def potencia(a,b):\n",
    "    return a ** b\n",
    "\n",
    "calculadora(suma, 1,2)\n",
    "\n",
    "\"\"\""
   ]
  },
  {
   "cell_type": "code",
   "execution_count": 31,
   "metadata": {},
   "outputs": [],
   "source": [
    "\"\"\"\n",
    "def debo_vender(precio_compra, precio_actual, take_profit, stop_loss):\n",
    "    precio_perdida = precio_compra * (1 -  stop_loss)\n",
    "    precio_ganancia = precio_compra * (1 + take_profit)\n",
    "    return  precio_actual <= precio_perdida or precio_actual >= precio_ganancia\n",
    "debo_vender(100, 102, 0.03, 0.02)\n",
    "debo_vender(100, 102, 0.02, 0.02)\n",
    "\n",
    "\"\"\""
   ]
  },
  {
   "cell_type": "code",
   "execution_count": null,
   "metadata": {},
   "outputs": [],
   "source": []
  },
  {
   "cell_type": "code",
   "execution_count": null,
   "metadata": {},
   "outputs": [],
   "source": []
  },
  {
   "cell_type": "code",
   "execution_count": null,
   "metadata": {},
   "outputs": [],
   "source": []
  }
 ],
 "metadata": {
  "kernelspec": {
   "display_name": "Python 3",
   "language": "python",
   "name": "python3"
  },
  "language_info": {
   "codemirror_mode": {
    "name": "ipython",
    "version": 3
   },
   "file_extension": ".py",
   "mimetype": "text/x-python",
   "name": "python",
   "nbconvert_exporter": "python",
   "pygments_lexer": "ipython3",
   "version": "3.7.4"
  }
 },
 "nbformat": 4,
 "nbformat_minor": 2
}
